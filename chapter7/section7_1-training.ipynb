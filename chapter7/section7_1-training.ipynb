{
  "cells": [
    {
      "cell_type": "code",
      "execution_count": 1,
      "metadata": {
        "id": "45yhBREjqxvj"
      },
      "outputs": [],
      "source": [
        "# StyleGAN2の学習を行うサンプルコード"
      ]
    },
    {
      "cell_type": "code",
      "execution_count": 2,
      "metadata": {
        "colab": {
          "base_uri": "https://localhost:8080/"
        },
        "id": "u2ee3z-a-tjW",
        "outputId": "b8d52e7e-29b3-455e-d3e1-86e6c20be7a6"
      },
      "outputs": [
        {
          "name": "stdout",
          "output_type": "stream",
          "text": [
            "Sun Feb  7 12:15:57 2021       \n",
            "+-----------------------------------------------------------------------------+\n",
            "| NVIDIA-SMI 460.39       Driver Version: 418.67       CUDA Version: 10.1     |\n",
            "|-------------------------------+----------------------+----------------------+\n",
            "| GPU  Name        Persistence-M| Bus-Id        Disp.A | Volatile Uncorr. ECC |\n",
            "| Fan  Temp  Perf  Pwr:Usage/Cap|         Memory-Usage | GPU-Util  Compute M. |\n",
            "|                               |                      |               MIG M. |\n",
            "|===============================+======================+======================|\n",
            "|   0  Tesla V100-SXM2...  Off  | 00000000:00:04.0 Off |                    0 |\n",
            "| N/A   33C    P0    25W / 300W |      0MiB / 16130MiB |      0%      Default |\n",
            "|                               |                      |                 ERR! |\n",
            "+-------------------------------+----------------------+----------------------+\n",
            "                                                                               \n",
            "+-----------------------------------------------------------------------------+\n",
            "| Processes:                                                                  |\n",
            "|  GPU   GI   CI        PID   Type   Process name                  GPU Memory |\n",
            "|        ID   ID                                                   Usage      |\n",
            "|=============================================================================|\n",
            "|  No running processes found                                                 |\n",
            "+-----------------------------------------------------------------------------+\n"
          ]
        }
      ],
      "source": [
        "# GPU情報の確認\n",
        "!nvidia-smi"
      ]
    },
    {
      "cell_type": "code",
      "execution_count": 2,
      "metadata": {
        "id": "qlPu00kGe4fw"
      },
      "outputs": [],
      "source": [
        "# google driveからcolaboにファイルをコピーするメソッド\n",
        "import requests\n",
        "from bs4 import BeautifulSoup\n",
        "\n",
        "def download_file_from_google_drive(id, destination):\n",
        "    print('---- download_file_from_google_drive start ----')\n",
        "    URL = \"https://docs.google.com/uc?export=download\"\n",
        "\n",
        "    try:\n",
        "        session = requests.Session()\n",
        "\n",
        "        response = session.get(URL, params = { 'id' : id }, stream = True)\n",
        "        print('response.status_code: {}'.format(response.status_code))\n",
        "        print('response.headers: {}'.format(response.headers))\n",
        "\n",
        "        soup = BeautifulSoup(response.text, 'html.parser')\n",
        "        print('===== soup ====')\n",
        "        print(soup)\n",
        "\n",
        "        id, cofirm_token = get_confirm_token(soup)\n",
        "        print(f'id: {id}')\n",
        "        print(f'confirm_token: {cofirm_token}')\n",
        "\n",
        "        params = { 'id' : id, 'confirm' : cofirm_token }\n",
        "        # params = { 'id' : id }\n",
        "        \n",
        "        response = session.get(URL, params = params, stream = True)\n",
        "\n",
        "        save_response_content(response, destination)\n",
        "    except Exception as e:\n",
        "        print(e)\n",
        "\n",
        "\n",
        "def get_confirm_token(soup):\n",
        "    # サイズの大きいファイルをダウンロードしようとすると、「ファイルをプレビューできませんでした」というメッセージ画面が表示される\n",
        "    # このメッセージ画面のhtmlからダウンロードボタンをクリックした際のidとconfirmを取得する\n",
        "    # このメッセージ画面はGoogleの仕様によって変更されて動作しなくなる場合があります。\n",
        "    # その際はid等の情報を取得するようにコードを変えるか、\n",
        "    # https://drive.google.com/file/d/1LM4FtUltzS45PuFyfuSp3I8QdTD8Cu0F/view?usp=sharing\n",
        "    # 上記のURLから手動でファイルを取得し、content/dataset配下に配置してください\n",
        "\n",
        "    print(' **** get_confirm_token ****')\n",
        "    form = soup.find('form', {'id': 'download-form'})\n",
        "    print(form)\n",
        "\n",
        "    # フォームアクションURLからIDとconfirmトークンを抽出\n",
        "    action_url = form.get('action')\n",
        "    params = action_url.split('&')\n",
        "    file_id = params[1].split('=')[1]\n",
        "    confirm_token = params[2].split('=')[1]\n",
        "\n",
        "    print('file_id: {}'.format(file_id))\n",
        "    print('confirm_token: {}'.format(confirm_token))\n",
        "    \n",
        "    return file_id, confirm_token\n",
        "\n",
        "\n",
        "def save_response_content(response, destination):\n",
        "    CHUNK_SIZE = 32768\n",
        "\n",
        "    with open(destination, \"wb\") as f:\n",
        "        for chunk in response.iter_content(CHUNK_SIZE):\n",
        "            if chunk: # filter out keep-alive new chunks\n",
        "                f.write(chunk)\n",
        "\n"
      ]
    },
    {
      "cell_type": "code",
      "execution_count": null,
      "metadata": {
        "id": "JoMwHp9sAOcX"
      },
      "outputs": [],
      "source": [
        "# 実行環境のrootディレクトリの確認\n",
        "%cd /content/\n",
        "!ls -lah"
      ]
    },
    {
      "cell_type": "code",
      "execution_count": null,
      "metadata": {
        "id": "xWS6POlDHhgs"
      },
      "outputs": [],
      "source": [
        "# ソースコードのダウンロード\n",
        "%cd /content/\n",
        "!rm -fr gan_sample\n",
        "!git clone https://github.com/ayukat1016/gan_sample.git"
      ]
    },
    {
      "cell_type": "code",
      "execution_count": 6,
      "metadata": {
        "id": "bOT73-3jzQ72"
      },
      "outputs": [],
      "source": [
        "# datasetを配置するディレクトリを作成します。\n",
        "!mkdir ./dataset"
      ]
    },
    {
      "cell_type": "code",
      "execution_count": null,
      "metadata": {
        "id": "2UGYxmQ1aRmW"
      },
      "outputs": [],
      "source": [
        "# endless_summer datasetのダウンロードを行います。\n",
        "# ★★★★ 7GBあるのでダウンロードに時間がかかります。 ★★★★\n",
        "# https://drive.google.com/file/d/1LM4FtUltzS45PuFyfuSp3I8QdTD8Cu0F/view?usp=sharing\n",
        "file_id = '1LM4FtUltzS45PuFyfuSp3I8QdTD8Cu0F'\n",
        "destination = './dataset/endless_summer.zip'\n",
        "download_file_from_google_drive(file_id, destination)"
      ]
    },
    {
      "cell_type": "code",
      "execution_count": null,
      "metadata": {
        "id": "xCQy1NuWa10K"
      },
      "outputs": [],
      "source": [
        "# ダウンロードしたendless summer datasetを展開します\n",
        "!unzip ./dataset/endless_summer.zip -d ./dataset"
      ]
    },
    {
      "cell_type": "code",
      "execution_count": null,
      "metadata": {
        "id": "Q_jYIq4N2YRh"
      },
      "outputs": [],
      "source": [
        "# データ件数の確認\n",
        "!find dataset/* -type f | wc -l"
      ]
    },
    {
      "cell_type": "code",
      "execution_count": null,
      "metadata": {
        "id": "17GZl7VR9ZqH"
      },
      "outputs": [],
      "source": [
        "# Google driveのマウントを行います。\n",
        "from google.colab import drive\n",
        "drive.mount('/content/gdrive')"
      ]
    },
    {
      "cell_type": "code",
      "execution_count": null,
      "metadata": {
        "id": "SVqwpuW09Zs0"
      },
      "outputs": [],
      "source": [
        "# マウントしたGoogle Drive情報の確認\n",
        "!ls gdrive -lah"
      ]
    },
    {
      "cell_type": "code",
      "execution_count": null,
      "metadata": {
        "id": "Ne_WJmmikrXW"
      },
      "outputs": [],
      "source": [
        "# Tensorboardの起動\n",
        "# 学習経過を確認するためにTensorboardを使用します\n",
        "# --log_dirオプションに各自のGoogle Driveのディレクトリを指定してください。\n",
        "\n",
        "%cd /content/\n",
        "%load_ext tensorboard\n",
        "%tensorboard --logdir=./gdrive/MyDrive/'Colab Notebooks'/gan_sample/chapter7/logs"
      ]
    },
    {
      "cell_type": "code",
      "execution_count": null,
      "metadata": {
        "id": "57oCD8X59Nv-"
      },
      "outputs": [],
      "source": [
        "# 学習を行います。\n",
        "# ★★★★★★★★★★★★★★★★★★★★★★★★★★★★★★★★★★★★★★★★★★★★★★★★★\n",
        "# ★★★★★　長時間の学習を行うとGoogle Driveの容量が足りなくなる事があるので、注意してください!!!!!!★★★★\n",
        "# ★★★★★★★★★★★★★★★★★★★★★★★★★★★★★★★★★★★★★★★★★★★★★★★★★\n",
        "# Google Driveの容量が少ない方は事前に容量を購入するか、下記のsave intervalの値を大きくしてください。\n",
        "# --save_model_interval=32 \\\n",
        "# --save_metrics_interval=2 \\\n",
        "# --save_images_tensorboard_interval=8 \\\n",
        "# --save_images_interval=32 \\\n",
        "# 特に--model_pathに保存されるモデルファイルは1ファイルで300MBと大きいので、古いモデルファイルは消すようにしてください。\n",
        "\n",
        "# それっぽい画像が生成されるまで、2〜3日、精度の良い画像が生成されるには1週間以上かかるかもしれません。\n",
        "# 学習は--model_pathオプションに格納されている一番新しいモデルファイルを使用して継続学習を行います。\n",
        "# --model_pathで指定したディレクトリにモデルファイルがない場合ははじめから学習を行います。\n",
        "# fidスコア算出のためにinceptionの重みファイルを初回にダウンロードするので、学習が開始するまで時間(5分〜10分)がかかります。\n",
        "\n",
        "# --model_pathに学習したモデルの保存先を指定します。\n",
        "# --data_pathに学習するdata setのディレクトリを指定します。\n",
        "# --resultsに学習した結果を保存するディレクトリを指定します。\n",
        "# --cache_pathに一時ファイルの格納先を指定します。\n",
        "# --tensorboad_pathにTensoboardのログファイルを保存するディレクトリを指定します。\n",
        "# --save_model_interval: モデルを保存する間隔を指定します。32を指定すると32回のループ回数毎にモデルを保存します。\n",
        "# --save_metrics_interval: 指標をTensorboardに出力する間隔を指定します。\n",
        "# --save_images_tensorboard_interval: 生成した画像をTensorboadに出力する間隔を指定します。\n",
        "# --save_images_interval: 生成した画像をファイルとして保存する間隔を指定します。\n",
        "# --generator_train_num: generatorが連続して学習する回数を指定します。とりあえず4で良いと思います。\n",
        "# --discriminator_train_num: discriminatorが連続して学習する回数を指定します。とりあえず4で良いと思います。\n",
        "# --reverse_decay: 1のままで\n",
        "# --g_reg_interval: generatorの正則処理を行う間隔を指定します。とりあえず4で良いと思います。\n",
        "# --d_reg_interval: discriminatorの正則処理を行う間隔を指定します。とりあえず16で良いと思います。\n",
        "# --fid_score_interval: fidスコアを算出する間隔をしてします。fidのスコアの算出は非常に時間がかかるので、実行したくない場合は大きな値を指定してください。\n",
        "\n",
        "%cd /content/gan_sample/chapter7/stylegan2_pytorch\n",
        "\n",
        "!python training.py --batch_size=4 --resolution=512 \\\n",
        "--model_path=/content/gdrive/MyDrive/'Colab Notebooks'/gan_sample/chapter7/model \\\n",
        "--data_path=../../../dataset/endless_summer \\\n",
        "--results=/content/gdrive/MyDrive/'Colab Notebooks'/gan_sample/chapter7/results \\\n",
        "--cache_path=/content/gdrive/MyDrive/'Colab Notebooks'/gan_sample/chapter7/cache \\\n",
        "--tensorboard_path=/content/gdrive/MyDrive/'Colab Notebooks'/gan_sample/chapter7/logs \\\n",
        "--save_model_interval=32 \\\n",
        "--save_metrics_interval=2 \\\n",
        "--save_images_tensorboard_interval=8 \\\n",
        "--save_images_interval=32 \\\n",
        "--generator_train_num=4 \\\n",
        "--discriminator_train_num=4 \\\n",
        "--reverse_decay=1 \\\n",
        "--g_reg_interval=4 \\\n",
        "--d_reg_interval=16 \\\n",
        "--fid_score_interval=2048"
      ]
    },
    {
      "cell_type": "code",
      "execution_count": null,
      "metadata": {
        "id": "hQclPT8iYWiQ"
      },
      "outputs": [],
      "source": []
    },
    {
      "cell_type": "code",
      "execution_count": null,
      "metadata": {
        "id": "j2_XmvUJYf4y"
      },
      "outputs": [],
      "source": []
    }
  ],
  "metadata": {
    "accelerator": "GPU",
    "colab": {
      "collapsed_sections": [],
      "machine_shape": "hm",
      "name": "section7_1-training.ipynb",
      "provenance": []
    },
    "kernelspec": {
      "display_name": "Python 3",
      "language": "python",
      "name": "python3"
    },
    "language_info": {
      "version": "3.8.5-final"
    }
  },
  "nbformat": 4,
  "nbformat_minor": 0
}